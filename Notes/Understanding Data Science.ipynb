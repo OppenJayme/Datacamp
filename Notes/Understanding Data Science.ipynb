{
 "cells": [
  {
   "cell_type": "markdown",
   "id": "b9fbca8c-b373-4dc0-a9fe-4cda3e797eea",
   "metadata": {},
   "source": [
    "# Understanding Data Science"
   ]
  },
  {
   "cell_type": "markdown",
   "id": "46b53f87-c9c7-4832-9980-72d66b4e5128",
   "metadata": {},
   "source": [
    "## Chapter 1"
   ]
  },
  {
   "cell_type": "markdown",
   "id": "b4cab68d-0c77-42f6-8300-aeba20926142",
   "metadata": {},
   "source": [
    "### What is data science? \n",
    "- It is a **set of methodologies** for taking in thousands of forms of data that are available to us today, to **draw meaningful conclusion.**\n",
    "- Every like, click, email, credit card swipe, or tweet is a new piece of data that can be used to better **describe the present or predict the future.**"
   ]
  },
  {
   "cell_type": "markdown",
   "id": "e0d38e96-52b0-4413-b7d2-ec719cf5dd6c",
   "metadata": {},
   "source": [
    "### What can data do?"
   ]
  }
 ],
 "metadata": {
  "kernelspec": {
   "display_name": "Python 3 (ipykernel)",
   "language": "python",
   "name": "python3"
  },
  "language_info": {
   "codemirror_mode": {
    "name": "ipython",
    "version": 3
   },
   "file_extension": ".py",
   "mimetype": "text/x-python",
   "name": "python",
   "nbconvert_exporter": "python",
   "pygments_lexer": "ipython3",
   "version": "3.11.0"
  }
 },
 "nbformat": 4,
 "nbformat_minor": 5
}
